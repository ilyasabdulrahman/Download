{
 "cells": [
  {
   "cell_type": "code",
   "execution_count": 61,
   "id": "baef0347",
   "metadata": {},
   "outputs": [],
   "source": [
    "import os\n",
    "import openpyxl\n",
    "import xlwings as xw\n",
    "from openpyxl import load_workbook"
   ]
  },
  {
   "cell_type": "code",
   "execution_count": 62,
   "id": "b73552ac",
   "metadata": {},
   "outputs": [],
   "source": [
    "# %%\n",
    "def download_pdfs(sample_number, original_excel_file, path_to_store_converted_excel, converted_excel_sheet_name, path_for_pdfs, contract_list):\n",
    "    \"\"\"Specify the number of pdfs to download, excel file containing the url links, path for the new converted excel,\n",
    "    the sheet name you want to extract files from, the path for where you want to store the downloaded pdfs which will be scraped from the sheet,\n",
    "    and the list of contract IDs you want to download\"\"\"\n",
    "    #Example command line execution:\n",
    "    # python pdf_download_script.py\n",
    "    # sample_number:5\n",
    "    # original_excel_file: 'DTMB_PRO-Contract-List.xls'\n",
    "    # path_to_store_converted_excel: '/Users/narainyucel/Google Drive/MADS/capstone/legal_nlp'\n",
    "    # converted_excel_sheet_name: 'Updated 06-16-2022'\n",
    "    # path_for_pdfs: '/Users/narainyucel/Google Drive/MADS/capstone/legal_nlp'\n",
    "    # contract_list: [\"071B1300128\", \"210000001036\"]\n",
    "    #convert old xls to xlsx and split them into one xlsx per sheet, choose sheet with relevant information\n",
    "    with xw.App(visible=False) as app:\n",
    "        wb = app.books.open(original_excel_file)\n",
    "        for sheet in wb.sheets:\n",
    "            wb_new = app.books.add()\n",
    "            sheet.copy(after=wb_new.sheets[0])\n",
    "            wb_new.sheets[0].delete()\n",
    "            if not os.path.isfile(path_to_store_converted_excel + f'/{sheet.name}.xlsx'):\n",
    "                wb_new.save(path_to_store_converted_excel + f'/{sheet.name}.xlsx')\n",
    "            wb_new.close()\n",
    "    #Download pdfs needed\n",
    "    DOWNLOADS_DIR = path_for_pdfs\n",
    "    links_list = []\n",
    "    \n",
    "    # Extracts all links\n",
    "    wb1 = load_workbook(path_to_store_converted_excel + f'/{converted_excel_sheet_name}.xlsx')\n",
    "    ws1 = wb1.get_sheet_by_name(converted_excel_sheet_name)\n",
    "    total = len(ws1['B'])\n",
    "    cnt = 2\n",
    "    for cell in range(1, total):\n",
    "        try:\n",
    "            links_list.append(ws1.cell(row=cnt, column=2).hyperlink.target)\n",
    "            cnt += 1\n",
    "        except AttributeError:\n",
    "            links_list.append(\"No Link\")\n",
    "            cnt += 1\n",
    "            continue\n",
    "    \n",
    "    # Extracts all IDs\n",
    "    wb = load_workbook(path_to_store_converted_excel + f'/{converted_excel_sheet_name}.xlsx')\n",
    "    ws = wb.active\n",
    "    first_column = ws['A']\n",
    "    ids = [cell.value for cell in first_column[1:]]\n",
    "    \n",
    "    # Finds the links associated with the IDs\n",
    "    found_links = []\n",
    "    count = 0\n",
    "    for cell in ids:\n",
    "        if cell in contract_list:\n",
    "            found_links.append(links_list[count])\n",
    "        count += 1\n",
    "    \n",
    "    for url in found_links:\n",
    "        name = url.rsplit('/', 1)[-1]\n",
    "        filename = os.path.join(DOWNLOADS_DIR, name)\n",
    "        if not os.path.isfile(filename):\n",
    "            try:\n",
    "                urllib.request.urlretrieve(url, filename)\n",
    "                print(count)\n",
    "            except HTTPError as error:\n",
    "                print(error.status, error.reason)\n",
    "            except URLError as error:\n",
    "                print(error.reason)\n",
    "            except TimeoutError:\n",
    "                print(\"Request timed out\")\n",
    "    return 0"
   ]
  },
  {
   "cell_type": "code",
   "execution_count": 63,
   "id": "1108e9c3",
   "metadata": {},
   "outputs": [
    {
     "name": "stderr",
     "output_type": "stream",
     "text": [
      "/var/folders/0p/8kl5kfh54ss3mwwgljmx9bjh0000gn/T/ipykernel_26014/436576433.py:30: DeprecationWarning: Call to deprecated function get_sheet_by_name (Use wb[sheetname]).\n",
      "  ws1 = wb1.get_sheet_by_name(converted_excel_sheet_name)\n",
      "\n"
     ]
    },
    {
     "name": "stdout",
     "output_type": "stream",
     "text": [
      "1497\n",
      "1497\n"
     ]
    }
   ],
   "source": [
    "d = download_pdfs(2, \"/Users/ilyasabdulrahman/Desktop/work_docs/DTMB_Contracts/DTMB_PRO-Contract-List.xls\", \"/Users/ilyasabdulrahman/Desktop/work_docs/DTMB_Contracts\", \"Updated 06-23-2022\", \"/Users/ilyasabdulrahman/Desktop/work_docs/DTMB_Contracts\", [\"210000001420\", \"071B7700129\"])"
   ]
  },
  {
   "cell_type": "code",
   "execution_count": null,
   "id": "e0d3cece",
   "metadata": {},
   "outputs": [],
   "source": []
  }
 ],
 "metadata": {
  "kernelspec": {
   "display_name": "Python 3 (ipykernel)",
   "language": "python",
   "name": "python3"
  },
  "language_info": {
   "codemirror_mode": {
    "name": "ipython",
    "version": 3
   },
   "file_extension": ".py",
   "mimetype": "text/x-python",
   "name": "python",
   "nbconvert_exporter": "python",
   "pygments_lexer": "ipython3",
   "version": "3.8.8"
  }
 },
 "nbformat": 4,
 "nbformat_minor": 5
}
